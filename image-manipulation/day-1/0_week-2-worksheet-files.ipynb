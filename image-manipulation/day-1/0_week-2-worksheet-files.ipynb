{
 "cells": [
  {
   "cell_type": "markdown",
   "metadata": {},
   "source": [
    "# Week 10, Worksheek: Image Manipulation\n",
    "\n",
    "<div class=\"alert alert-block alert-info\">\n",
    "    This worksheet implements to-do markers where work needs to be completed. In some cases, this means that you'll need to copy a line or two and make meaningful changes.\n",
    "</div>\n",
    "\n",
    "## Images from week 08\n",
    "\n",
    "If you recall previous week's main takeaways about Python module PIL and working with images, you'll remember that:\n",
    "\n",
    "* Module `pillow`, referred to as `PIL` allows us to create and manipulate images\n",
    "* Colors are created using RGB spectrum of channels, with each color (Red, Green and Blue) representing a separate channel\n",
    "* Each channel (R, G, and B) is expressed using an integer between 0 and 255\n",
    "* A pixel's RGB setting tells it precisely what shade of color it should display\n",
    "* Image pixels are addressed with x- and y-coordinates, which respectively specify a pixel's horizontal and vertical locations in an image\n",
    "* The origin is the pixel at the top-left corner of the image at the (x,y) value of (0, 0)\n",
    "* x-values increase horizontally to the right, while y-values increase vertically down from (0, 0) point\n",
    "\n",
    "## Manipulating images\n",
    "\n",
    "This week, you are going to extend your previous experience of working with images. If you need to edit a large number of images, editing them by hand using Microsoft Paint, Gimp, or Adobe Photoshop can be a lengthy and painful task. Python can come to the rescue in this scenario. Pillow module in Python contains several functions that make it easy to crop, resize, and edit images. \n",
    "\n",
    "As you remember from week 08, an image consist of pixels, each having an RGB value. Pillow offers the `ImageColor.getcolor()` function so you can get RGB values for the colors you want to use. This function takes a color name string as its first argument, and the string `RGB` as its second argument, and it returns a tuple. You will need to import `ImageColor` part of `PIL` to use this function. \n",
    "\n",
    "```python\n",
    "from PIL import ImageColor\n",
    "\n",
    "ImageColor.getcolor('red', 'RGB')\n",
    "\n",
    "ImageColor.getcolor('chocolate', 'RGB')\n",
    "```\n",
    "\n",
    "Pillow supports a large variety of colors, from \"aliceblue\" to \"whitesmoke\". Pillow uses the standard color names that HTML uses - [Web Colors](https://en.wikipedia.org/wiki/Web_colors).\n",
    "\n",
    "### 1. `import` the module's `ImageColor` piece and get RGB value for a color other than red and chocolate."
   ]
  },
  {
   "cell_type": "code",
   "execution_count": 1,
   "metadata": {},
   "outputs": [
    {
     "data": {
      "text/plain": [
       "(210, 105, 30)"
      ]
     },
     "execution_count": 1,
     "metadata": {},
     "output_type": "execute_result"
    }
   ],
   "source": [
    "from PIL import ImageColor\n",
    "# TODO "
   ]
  },
  {
   "cell_type": "markdown",
   "metadata": {},
   "source": [
    "#### Loading an image\n",
    "\n",
    "Before we can manipulate an image, we need to load that image into Python. For example, to load `g_wiz` image, we first import the `Image` module from `Pillow` and call `Image.open()` function, passing it the image's filename. We then store the loaded image in a variable like `gwiz`.\n",
    "\n",
    "```python\n",
    "from PIL import Image\n",
    "gwiz = Image.open('g_wiz.png')\n",
    "```\n",
    "\n",
    "#### Working with the Image data type\n",
    "\n",
    "An `Image` object has several useful attributes that give you basic information about the image file, such as its width and height, the filename, and the graphics format. After making an `Image` object from `g_wiz.png` and storing the `Image` object in `gwiz` variable, we can see that the object's size attribute contains a tuple of the image's width and height in pixels when we use the function called `size`. \n",
    "\n",
    "```python\n",
    "gwiz.size\n",
    "```\n",
    "\n",
    "We can assign the values in the tuple to width and height variables in order to access with width and height individually. \n",
    "\n",
    "```python\n",
    "width, height = gwiz.size\n",
    "\n",
    "width\n",
    "\n",
    "height\n",
    "```\n",
    "\n",
    "The `filename` attribute describes the original file's name. The `format` and `format_description` attributes are strings that describe the image format of the original file, with `format_description` being a little more verbose.\n",
    "\n",
    "```python\n",
    "gwiz.filename\n",
    "\n",
    "gwiz.format\n",
    "\n",
    "gwiz.format_description\n",
    "```\n",
    "\n",
    "### 2. Try each of the commands above to get the size, filename, format and format description of `g_wiz` image"
   ]
  },
  {
   "cell_type": "code",
   "execution_count": 1,
   "metadata": {},
   "outputs": [],
   "source": [
    "from PIL import Image\n",
    "gwiz = Image.open('g_wiz.png')\n",
    "\n",
    "# TODO "
   ]
  },
  {
   "cell_type": "markdown",
   "metadata": {},
   "source": [
    "### Cropping Images\n",
    "\n",
    "Cropping an image means selecting a rectangular region inside an image and removing everything outside the rectangle. The `crop` method on `Image` objects takes a box tuple and returns an `Image` object representing the cropped image. Cropping does not alter the original `Image` object, instead the `crop` method returns a new `Image` object. Specifically, it returns a rectangular region with a 4-tuple defining the left, upper, right, and lower pixel coordinate of the cropped rectangular region. For example, assuming you imported `Image` and opened `g_wiz.png` image and saved it into `gwiz` variable, and using width and height variables from step 2., you can crop the right half of the image and save it as a new \"cropped.png\" image as follows.\n",
    "\n",
    "```python\n",
    "croppedImage = gwiz.crop((width/2, 0, width, height))\n",
    "#                          |       |     |      |\n",
    "#                         left    top  right  bottom\n",
    "                          \n",
    "croppedImage.save('cropped.png')\n",
    "```\n",
    "\n",
    "### 3. Create a cropped image of `g_wiz` image featuring mostly the hat and face, save as `cropped.png`"
   ]
  },
  {
   "cell_type": "code",
   "execution_count": 4,
   "metadata": {},
   "outputs": [],
   "source": [
    "# TODO "
   ]
  },
  {
   "cell_type": "markdown",
   "metadata": {},
   "source": [
    "### Copying and Pasting Images onto Other Images\n",
    "\n",
    "The `copy` method will return a new `Image` object with the same image as the `Image` object it was called on. This is useful if you need to make changes to an image but also want to keep an untouched version of the original.\n",
    "\n",
    "```python\n",
    "gwiz_copy = gwiz.copy()\n",
    "```\n",
    "\n",
    "The `gwiz` and `gwiz_copy` variables above contain two separate `Image` objects, both having the same image. Now that we have an `Image` object stored in `gwiz_copy`, we can modify it as we like and save it to a new filename, leaving `gwiz.png` untouched. Let's try modifying `gwiz_copy` with the `paste` function, which is called on an `Image` object and pastes another image on top of it. In the example below, the cropped image is pasted in the top left.\n",
    "\n",
    "```python\n",
    "gwiz_copy.paste(croppedImage, (0, 0))\n",
    "gwiz_copy.save('pasted.png')\n",
    "```\n",
    "\n",
    "### 4. Make a copy of the `gwiz` image and paste cropped image from step 3. in at least two locations in this copy of gwiz, save as `pasted.png`"
   ]
  },
  {
   "cell_type": "code",
   "execution_count": 5,
   "metadata": {},
   "outputs": [],
   "source": [
    "# TODO "
   ]
  },
  {
   "cell_type": "markdown",
   "metadata": {},
   "source": [
    "### Resizing an Image\n",
    "\n",
    "The `resize` function is called on an `Image` object and returns a new `Image` object of the specified width and height. It accepts a two-integer tuple argument, representing the new width and height of the returned image. Below, we assign the two values in the `gwiz.size` tuple to the variables `width` and `height`. Then, using width and height instead of `gwiz.size[0]` and `gwiz.size[1]` makes the rest of the code more readable.\n",
    "\n",
    "```python\n",
    "quartersized = gwiz.resize((int(width / 2), int(height / 2)))\n",
    "quartersized.save('resized.png')\n",
    "```\n",
    "\n",
    "### 5. Resize the `g_wiz.png` image (any new size), save as `resized.png`"
   ]
  },
  {
   "cell_type": "code",
   "execution_count": 6,
   "metadata": {},
   "outputs": [],
   "source": [
    "# TODO "
   ]
  },
  {
   "cell_type": "markdown",
   "metadata": {},
   "source": [
    "### Rotating and Flipping Images\n",
    "\n",
    "Images can be rotated with the `rotate` function, which returns a new `Image` object of the rotated image and leaves the original `Image` object unchanged. The argument to `rotate` is a single integer or float representing the number of degrees to rotate the image counterclockwise. Below we have a sequence of function calls by calling `save` directly on the `Image` object returned from `rotate`. In the code example below, the first `rotate` and `save` call makes a new `Image` object representing the image rotated counterclockwise by 90 degrees and saves the rotated image to `rotated90.png`. \n",
    "\n",
    "```python\n",
    "gwiz.rotate(90).save('rotated90.png')\n",
    "```\n",
    "\n",
    "You can also get a \"mirror flip\" of an image with the `transpose` function. You must pass either `Image.FLIP_LEFT_RIGHT` or `Image.FLIP_TOP_BOTTOM` to the `transpose` function as shown below.\n",
    "\n",
    "```python\n",
    "gwiz.transpose(Image.FLIP_LEFT_RIGHT).save('horizontal_flip.png')\n",
    "gwiz.transpose(Image.FLIP_TOP_BOTTOM).save('vertical_flip.png')\n",
    "```\n",
    "\n",
    "### 6. Rotate `g_wiz.png` image 90 degrees, 180 degrees, and 270 degrees, saving it into a new image each time as `rotated90.png`, `rotated180.png`, `rotated270.png` "
   ]
  },
  {
   "cell_type": "code",
   "execution_count": 7,
   "metadata": {},
   "outputs": [],
   "source": [
    "# TODO "
   ]
  },
  {
   "cell_type": "markdown",
   "metadata": {},
   "source": [
    "### Changing Individual Pixels\n",
    "\n",
    "The color of an individual pixel can be retrieved or set with the `getpixel` and `putpixel` functions. These functions both take a tuple representing the x- and y-coordinates of the pixel. The `putpixel` method also takes an additional tuple argument for the color of the pixel (RGB tuple). The code example below gets the pixel at location (300, 200).\n",
    "\n",
    "```python\n",
    "gwiz.getpixel((300, 200))\n",
    "```\n",
    "\n",
    "While, the example below changes the color of the pixel at location (100, 100) to the RGB tuple (250, 0, 0) - red color - and saves the updated image.\n",
    "\n",
    "```python\n",
    "gwiz.putpixel((300, 200), (250, 0, 0))\n",
    "gwiz.save('putPixel.png')\n",
    "```\n",
    "\n",
    "Instead of specifying RGB numerical values, we can use the `getcolor` method we discussed at the beginning of this worksheet, as:\n",
    "\n",
    "```python\n",
    "gwiz.putpixel((300, 200), ImageColor.getcolor('darkgray', 'RGB'))\n",
    "```\n",
    "\n",
    "### 7. Change the colors of at least one hundred pixels in `g_wiz` image (use a loop), saving as `putPixel.png`"
   ]
  },
  {
   "cell_type": "code",
   "execution_count": 8,
   "metadata": {},
   "outputs": [],
   "source": [
    "# TODO "
   ]
  }
 ],
 "metadata": {
  "kernelspec": {
   "display_name": "Python 3",
   "language": "python",
   "name": "python3"
  },
  "language_info": {
   "codemirror_mode": {
    "name": "ipython",
    "version": 3
   },
   "file_extension": ".py",
   "mimetype": "text/x-python",
   "name": "python",
   "nbconvert_exporter": "python",
   "pygments_lexer": "ipython3",
   "version": "3.8.5"
  }
 },
 "nbformat": 4,
 "nbformat_minor": 4
}
