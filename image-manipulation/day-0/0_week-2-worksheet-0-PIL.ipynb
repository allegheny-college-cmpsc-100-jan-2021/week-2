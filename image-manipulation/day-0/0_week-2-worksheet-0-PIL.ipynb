{
 "cells": [
  {
   "cell_type": "markdown",
   "metadata": {},
   "source": [
    "# Worksheet 2.0.0: Image manipulation\n",
    "\n",
    "<div class=\"alert alert-block alert-info\">\n",
    "    This worksheet implements to-do markers where work needs to be completed. In some cases, this means that you'll need to copy a line or two and make meaningful changes.\n",
    "</div>\n",
    "\n",
    "## `import` last week\n",
    "\n",
    "If you recall last week's end-of-week takeaways about Python modules, you'll remember that:\n",
    "\n",
    "* they exist to house functionality that programmers don't use _all the time_\n",
    "* need to be `import`ed\n",
    "* create _objects_ which we can use to perform specialized tasks\n",
    "* modules have _methods_ which we access using _dot notation_\n",
    "* the methods that a given model contains vary from module to module depending on purpose\n",
    "* the professor suggests you read the internets to learn more about most modules\n",
    "* G. Wiz and the crew thank you for playing HumanQuest; maybe you can play again sometime?\n",
    "\n",
    "## Drawing on your experience\n",
    "\n",
    "While there are quite a few modules provided by simply using Python, many of the _best_ are indepedently-developed, community-maintained efforts. This week, we're going to examine a module called `pillow` or, more appropriately referred to in code as `PIL`.\n",
    "\n",
    "As this section's title pun suggests, we're going to draw us some #arts. Of course, first we have to `import` the correct functionality, which in this case is done by:\n",
    "\n",
    "```python\n",
    "import PIL\n",
    "```\n",
    "\n",
    "However, there's _a ton_ of stuff in `PIL`, so we can even go a step further and import _only those parts that we need_ using the `from` keyword, namely `Image` and `ImageDraw`.\n",
    "\n",
    "### 1. `import` the module's `Image` and `ImageDraw` pieces below."
   ]
  },
  {
   "cell_type": "code",
   "execution_count": 1,
   "metadata": {},
   "outputs": [],
   "source": [
    "from PIL import Image, ImageDraw"
   ]
  },
  {
   "cell_type": "markdown",
   "metadata": {},
   "source": [
    "Okay, now we have our brushes and paints so to speak. But, like any good painter, we need a canvas and, unfortunately, we don't automatically get one.\n",
    "\n",
    "We can _make_ one, though.\n",
    "\n",
    "#### Detour into what an image really is\n",
    "\n",
    "Before we do anything with digital images, it's important to understand how they work.\n",
    "\n",
    "Computer screens are calibrated using an RGB spectrum of \"channels,\" where each color is a separate \"channel.\" As you might have guessed, this means **R**ed, **G**reen, **B**lue. We can make virtually any color from a mixture of these three. But, as with anything computational, there's a limit: 16777216 colors.\n",
    "\n",
    "Each channel (R, G, and B) is expressed using an integer between `0` and `255` (that's `256` possibilities, using our programmer counting knowledge). Combinations of these numbers allow a machine to interpret how much red, blue, and green there is in a color. For example, this year's [Pantone Color of the Year (\"Classic Blue\")](https://www.pantone.com/color-intelligence/color-of-the-year/color-of-the-year-2020) maps to:\n",
    "\n",
    "| R | G | B |\n",
    "|---|---|---|\n",
    "|15 |76 |129|\n",
    "\n",
    "This value is applied to unit of measurement called a _pixel_. The more densely these are packed into an image, the higher-resolution it will be. (Fun fact: for digital screens, the standard is 72 per inch.)\n",
    "\n",
    "This is why, when an image is low-quality resolution, it often gets _pixelated_. Let's have a look at a normal G. Wiz:\n",
    "\n",
    "![G. Wiz HD](https://cs.allegheny.edu/sites/dluman/cmpsc100/cmpsc-100-g-wiz-hd.png)\n",
    "\n",
    "And a zoomed-in G. Wiz:\n",
    "\n",
    "![G. Wiz not so HD](https://cs.allegheny.edu/sites/dluman/cmpsc100/cmpsc-100-zoomed-gator.png)\n",
    "\n",
    "(The grid lines on the second image are added to demonstrate what the unit of a \"pixel\" looks like.)\n",
    "\n",
    "As you can see, the various mixtures of colors that make up greens, blues, yellows, and entire palette that constitutes the \"G. Wiz\" color scheme come in a reasonable variety -- all expressed by different ratios of **R** to **G** to **B**. Images are assembled pixel-by-pixel (usually left-to-right, top-to-bottom) using this information.\n",
    "\n",
    "This, in conjunction with a 2D coordinate system -- like one that you may remember from algebra -- give us the language to make our own.\n",
    "\n",
    "#### Drawing with Python\n",
    "\n",
    "Back to our present problem: we need a canvas. Rather than digest a comprehensive listing of available methods, this worksheet will walk you through the process step-by-step. In this worksheet, we're going to make a `200` pixel by `200` pixel (commonly seen as `200px x 200px`) image of the Pantone \"Color of the Year\" (recall this is `15`,`76`,`129`)\n",
    "\n",
    "To create an image, we need to call the `new` method of the `Image` section of the module. To do this:\n",
    "\n",
    "```python\n",
    "#       module\n",
    "#          |                     background/\"fill\" color as RGB tuple\n",
    "#          |    channel \"mode\"           |\n",
    "#          |         |                   |\n",
    "#          |         |                R  G   B\n",
    "canvas = Image.new('RGB', (200,200), (15,76,129))\n",
    "#               |             |\n",
    "#             method          |\n",
    "#                         width, height as tuple\n",
    "```\n",
    "\n",
    "### 2. Create a new image exactly like the one above"
   ]
  },
  {
   "cell_type": "code",
   "execution_count": 2,
   "metadata": {},
   "outputs": [],
   "source": [
    "canvas = Image.new('RGB', (200,200), (15,76,129))"
   ]
  },
  {
   "cell_type": "markdown",
   "metadata": {},
   "source": [
    "One feature of our Jupyter notebook (at least as it benefits us for images) is that we can type the variable identifer of that image (in this case, `canvas`), and see the image!\n",
    "\n",
    "Try it below: type `canvas` and then `Shift` + `Enter`"
   ]
  },
  {
   "cell_type": "code",
   "execution_count": 3,
   "metadata": {},
   "outputs": [
    {
     "data": {
      "image/png": "[encoded data removed]",
      "text/plain": [
       "<PIL.Image.Image image mode=RGB size=200x200 at 0x7F2A140C3040>"
      ]
     },
     "execution_count": 3,
     "metadata": {},
     "output_type": "execute_result"
    }
   ],
   "source": [
    "canvas"
   ]
  },
  {
   "cell_type": "markdown",
   "metadata": {},
   "source": [
    "Awesome! Now we can _draw_ -- and we'll draw a square in the middle of our square (at a size of `100px x 100px`) using the official Allegheny gold: `(254, 218, 72)`. The big problem now: how do we place it?\n",
    "\n",
    "Recall that we now have a grid system that is 200 pixels by 200 pixels:\n",
    "\n",
    "![Hip to be a square](https://cs.allegheny.edu/sites/dluman/cmpsc100/cmpsc-100-pantone-grid.png)\n",
    "\n",
    "We can view this as a coordinate system and place our square accordingly. Keep in mind, however, that the _origin_ -- that is, point `(0,0)` -- is actually at the _upper left_.\n",
    "\n",
    "To do this:\n",
    "\n",
    "```python\n",
    "# Enable drawing on our image; create as \"draw\" object\n",
    "draw = ImageDraw.Draw(canvas)\n",
    "# Draw a rectangle at exact center -- this requires math I've done for you\n",
    "draw.rectangle(\n",
    "    (\n",
    "        (50,50),       # <-- origin (i.e. starting point)\n",
    "        (150,150)      # <-- terminal (i.e. ending point)\n",
    "    ),\n",
    "    fill=(254,218,72)  # <-- fill color as R,G,B\n",
    ")\n",
    "```\n",
    "\n",
    "### 3. Create a rectangle with an origin point at `(25,25)` and a terminal point at `(175,175)` with a fill of `(254,218,72)`"
   ]
  },
  {
   "cell_type": "code",
   "execution_count": 4,
   "metadata": {},
   "outputs": [],
   "source": [
    "# Enable drawing on our image; create as \"draw\" object\n",
    "draw = ImageDraw.Draw(canvas)\n",
    "# Draw a rectangle at exact center -- this requires math I've done for you\n",
    "draw.rectangle(\n",
    "    (\n",
    "        (25,25),       # <-- origin (i.e. starting point)\n",
    "        (175,175)      # <-- terminal (i.e. ending point)\n",
    "    ),\n",
    "    fill=(254,218,72)  # <-- fill color as R,G,B\n",
    ")"
   ]
  },
  {
   "cell_type": "markdown",
   "metadata": {},
   "source": [
    "Of course, we can make other shapes, too. And, of course we're going to do that -- a circle in this case. However, we need to observe the geometrical rule that circles are really just _special ellipses_.\n",
    "\n",
    "```python\n",
    "draw.ellipse(\n",
    "    (25,25,175,175), # <-- x1, y1, x2, y2\n",
    "    fill=(15,76,129) # <-- fill color as R,G,B\n",
    ")\n",
    "```\n",
    "\n",
    "### 4. Draw an ellipse with points at `(50,50,150,150)` with a fill of `(15, 76, 129)`"
   ]
  },
  {
   "cell_type": "code",
   "execution_count": 5,
   "metadata": {},
   "outputs": [],
   "source": [
    "draw.ellipse(\n",
    "    (50,50,150,150), # <-- x1, y1, x2, y2\n",
    "    fill=(15,76,129) # <-- fill color as R,G,B\n",
    ")"
   ]
  },
  {
   "cell_type": "markdown",
   "metadata": {},
   "source": [
    "Lastly, let's save our image -- like anything in Python, we can't keep it if we don't store it. In this case, we're going to store it as a file, doing so using the `save` method of the `Image` object we've created: `canvas`\n",
    "\n",
    "```python\n",
    "#            Replace with correct file name\n",
    "#                |\n",
    "canvas.save(\"FILE NAME\", \"PNG\")\n",
    "```\n",
    "\n",
    "### 5 Save your image as `worksheet_0_image.png` below"
   ]
  },
  {
   "cell_type": "code",
   "execution_count": 6,
   "metadata": {},
   "outputs": [],
   "source": [
    "canvas.save(\"worksheet_0_image.png\")"
   ]
  },
  {
   "cell_type": "markdown",
   "metadata": {},
   "source": [
    "### 6. To prove that you've saved it, show the image using a Markdown image tag below."
   ]
  },
  {
   "cell_type": "markdown",
   "metadata": {},
   "source": [
    "![\"Solution\"](worksheet_0_image.png)"
   ]
  }
 ],
 "metadata": {
  "kernelspec": {
   "display_name": "Python 3",
   "language": "python",
   "name": "python3"
  },
  "language_info": {
   "codemirror_mode": {
    "name": "ipython",
    "version": 3
   },
   "file_extension": ".py",
   "mimetype": "text/x-python",
   "name": "python",
   "nbconvert_exporter": "python",
   "pygments_lexer": "ipython3",
   "version": "3.8.5"
  }
 },
 "nbformat": 4,
 "nbformat_minor": 4
}
