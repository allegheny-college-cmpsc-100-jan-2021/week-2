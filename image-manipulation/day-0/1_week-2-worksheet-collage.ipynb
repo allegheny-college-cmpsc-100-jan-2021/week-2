{
 "cells": [
  {
   "cell_type": "markdown",
   "metadata": {},
   "source": [
    "# Worksheet 2.0.1: Cut-and-paste\n",
    "\n",
    "## Dig, if you will, some pictures\n",
    "\n",
    "We often come upon some requirement for functionality which necessitates creating a function. Perhaps we want to organize our code. Maybe we're looking at doing something many, many times and only want to write the procedure for a _very specific_ operation once. In any event, functions will become part of our regular vocabulary from here to the end of this course (and likely your entire career in Python).\n",
    "\n",
    "I'll propose a problem perfect for a functional solution, one that you might have come across in your digital life: resizing pictures. But -- not just _any_ pictures: we're going to resize some very interesting vintage computer ads.\n",
    "\n",
    "### Of course, a detour\n",
    "\n",
    "![A football player _and_ a librarian like bar charts? No way!](ads/ti_disaster.jpg)\n",
    "\n",
    "Aside: for a long time, no one had any idea who the real market for a computer would be, so companies tried to advertise to _everybody_ long before computers were really interoperable or easy to access. The prevailing attitude in some quarters shows:\n",
    "\n",
    "> There is no reason anyone would want a computer in their home\n",
    ">\n",
    "> —Ken Olson, Digital Equipment Corporation (DEC), 1977\n",
    "\n",
    "For context: DEC made mainframes (i.e. _very large_ computers). These were the holy grail until the '70s.\n",
    "\n",
    "## Resizing images\n",
    "\n",
    "All 2D pictures have two dimensions: width and height. To properly resize an image, getting these dimensions right requires a bit of math -- but, no fear, like the last worksheet, we're going to do this all together. In the end, we should have a nice collage. Well, at least _a_ collage.\n",
    "\n",
    "Let's get started.\n",
    "\n",
    "## Loading image files\n",
    "\n",
    "We'll revisit a familiar data structure: `list`s. I've provided a bit of code for you to scan your folder and collect the names of the images in the `ads` folder, but we still need to:\n",
    "\n",
    "* `print` the original size of the images (both width and height)\n",
    "* resize each of the images _proportionally_ by a random \"scale\" percentage\n",
    "* add them to our collage at random places (who doesn't like a bit of variety?)\n",
    "* save our image as `worksheet_1_final_collage.png`"
   ]
  },
  {
   "cell_type": "code",
   "execution_count": 1,
   "metadata": {},
   "outputs": [
    {
     "name": "stdout",
     "output_type": "stream",
     "text": [
      "ads/ti_disaster.jpg: width: 735, height: 1024\n",
      "ads/ti_disaster.jpg: new width: 512, new height: 714\n",
      "ads/this_ish_cray.jpg: width: 520, height: 353\n",
      "ads/this_ish_cray.jpg: new width: 244, new height: 166\n",
      "ads/wysiwyg.jpg: width: 778, height: 1088\n",
      "ads/wysiwyg.jpg: new width: 112, new height: 156\n",
      "ads/tandy_ad.jpg: width: 800, height: 1104\n",
      "ads/tandy_ad.jpg: new width: 500, new height: 690\n",
      "ads/rly_want_one_of_these.jpg: width: 1119, height: 1548\n",
      "ads/rly_want_one_of_these.jpg: new width: 132, new height: 183\n",
      "ads/timex_had_a_computer_what.jpg: width: 520, height: 699\n",
      "ads/timex_had_a_computer_what.jpg: new width: 299, new height: 402\n",
      "ads/radio_shack_trs_ad.jpg: width: 1104, height: 1560\n",
      "ads/radio_shack_trs_ad.jpg: new width: 1145, new height: 1618\n",
      "ads/honey_well_email.jpg: width: 778, height: 1062\n",
      "ads/honey_well_email.jpg: new width: 539, new height: 736\n",
      "ads/rly_expensive_hard_drive.jpg: width: 700, height: 977\n",
      "ads/rly_expensive_hard_drive.jpg: new width: 436, new height: 609\n",
      "ads/benjamin_franklin_apple.jpg: width: 800, height: 1082\n",
      "ads/benjamin_franklin_apple.jpg: new width: 89, new height: 120\n"
     ]
    }
   ],
   "source": [
    "import os # <-- a built-in module\n",
    "import random\n",
    "from PIL import Image, ImageDraw\n",
    "\n",
    "def generate_random_position():\n",
    "    w, h = final_collage.size\n",
    "    rand_x = random.randint(0, w/2)\n",
    "    rand_y = random.randint(0, h/2)\n",
    "    return rand_x, rand_y\n",
    "\n",
    "def add_to_collage(img):\n",
    "    x, y = generate_random_position()\n",
    "    final_collage.paste(img, (x, y) ) # <-- \"global scope\"\n",
    "\n",
    "def calculate_final_size(w, h):\n",
    "    proportion = random.random() + .1\n",
    "    scaled_w = w * proportion\n",
    "    scaled_h = h * proportion\n",
    "    return int(scaled_w), int(scaled_h)\n",
    "\n",
    "def batch_resize(img):\n",
    "    img = Image.open(img,\"r\")\n",
    "    w, h = img.size\n",
    "    print(f\"{img.filename}: width: {w}, height: {h}\")\n",
    "    new_w, new_h = calculate_final_size(w, h)\n",
    "    print(f\"{img.filename}: new width: {new_w}, new height: {new_h}\")\n",
    "    resized_img = img.resize( (new_w, new_h) )\n",
    "    return resized_img\n",
    "\n",
    "vintage_ads = []\n",
    "resized_images = []\n",
    "#                                            R G B A\n",
    "final_collage = Image.new(\"RGBA\",(1024,768),(0,0,0,0))\n",
    "\n",
    "for file in os.listdir(\"ads\"): # <-- a handy method to look at our \"ads\" directory\n",
    "    if file.endswith(\".jpg\"):\n",
    "        vintage_ads.append(f\"ads/{file}\")\n",
    "\n",
    "for ad in vintage_ads:\n",
    "    new_image = batch_resize(ad)\n",
    "    resized_images.append(new_image)\n",
    "\n",
    "random.shuffle(resized_images)\n",
    "\n",
    "for img in resized_images:\n",
    "    add_to_collage(img)\n",
    "    \n",
    "final_collage.save(\"worksheet_1_final_collage.png\") # <-- writing hte file to disk"
   ]
  },
  {
   "cell_type": "markdown",
   "metadata": {},
   "source": [
    "### Finishing this exercise\n",
    "\n",
    "In the cell below, write the Markdown necessary to display the image, `worksheet_1_final_collage.png`."
   ]
  },
  {
   "cell_type": "markdown",
   "metadata": {},
   "source": [
    "![This ish Cray](worksheet_1_final_collage.png)"
   ]
  },
  {
   "cell_type": "code",
   "execution_count": null,
   "metadata": {},
   "outputs": [],
   "source": []
  }
 ],
 "metadata": {
  "kernelspec": {
   "display_name": "Python 3",
   "language": "python",
   "name": "python3"
  },
  "language_info": {
   "codemirror_mode": {
    "name": "ipython",
    "version": 3
   },
   "file_extension": ".py",
   "mimetype": "text/x-python",
   "name": "python",
   "nbconvert_exporter": "python",
   "pygments_lexer": "ipython3",
   "version": "3.8.5"
  }
 },
 "nbformat": 4,
 "nbformat_minor": 4
}
