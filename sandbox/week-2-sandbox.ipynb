{
 "cells": [
  {
   "cell_type": "markdown",
   "metadata": {
    "deletable": false,
    "editable": false
   },
   "source": [
    "# CMPSC 100: `Week 1` Sandbox\n",
    "\n",
    "---\n",
    "\n",
    "In the computer science world, a \"sandbox\" is almost exactly what it is in the real world: a place to, effectively, \"play.\" \n",
    "\n",
    "## Usage\n",
    "\n",
    "First and foremost, this space is for *you*. \n",
    "\n",
    "Use this notebook to try out code presented in class or do self-guided exploration. Your instructor may reference this notebook and ask that you write some code in it to follow along with in-class exercises or live programming.\n",
    "\n",
    "I also encourage you to use this as a space to take notes as you participate in discussions or practice coding concepts on your own.\n",
    "\n",
    "### Reminders\n",
    "\n",
    "The following key combinations and shortcuts will speed your work in this notebook.\n",
    "\n",
    "#### With cursor in cell\n",
    "\n",
    "| Key(s) | Outcome |\n",
    "|:-|:-|\n",
    "| `Enter` | Adds a new line in the current cell |\n",
    "| `Shift` + `Enter` | Runs the current cell and moves to the first cell below |\n",
    "| `Ctrl` + `Enter` | Runs the current cell; cursor remains in cell |\n",
    "| `Alt` + `Enter` | Runs current cell and inserts new cell below ||\n",
    "\n",
    "#### With cell selected\n",
    "\n",
    "| Key(s) | Outcome |\n",
    "|:-|:-|\n",
    "| `A` | Add cell above current cell |\n",
    "| `B` | Add cell below current cell |\n",
    "| `D` | Delete current cell |\n",
    "| `Shift` + `M` | Merge current cell with below |\n",
    "| `M` | Changes current cell to Markdown format|\n",
    "| `Y` | Changes current cell to code format |\n",
    "\n",
    "\n",
    "## Helpful readings\n",
    "\n",
    "The readings below are meant to serve as references for you as you explore practical use of our course's platforms. As always, however, feel free to reach out to your instructors or post questions in our course [Slack](https://cmpsc-100-00-ja-2021.slack.com).\n",
    "\n",
    "### Using Jupyter notebooks\n",
    "\n",
    "For questions about using a Jupyter Notebook, our colleagues at Bryn Mawr created a [Jupyter Notebook User's Manual](https://jupyter.brynmawr.edu/services/public/dblank/Jupyter%20Notebook%20Users%20Manual.ipynb) which answers basic and advanced questions about the platform.\n",
    "\n",
    "### Markdown\n",
    "\n",
    "I strongly recommend reading the [Mastering Markdown](https://guides.github.com/features/mastering-markdown/) guide to serve as a Markdown reference."
   ]
  },
  {
   "cell_type": "markdown",
   "metadata": {},
   "source": [
    "## Sandbox"
   ]
  },
  {
   "cell_type": "code",
   "execution_count": 36,
   "metadata": {},
   "outputs": [
    {
     "data": {
      "image/png": "[encoded data removed]",
      "text/plain": [
       "<PIL.Image.Image image mode=RGBA size=500x500 at 0x7FF1C295F0D0>"
      ]
     },
     "execution_count": 36,
     "metadata": {},
     "output_type": "execute_result"
    }
   ],
   "source": [
    "from PIL import Image, ImageDraw\n",
    "import random\n",
    "img = Image.new(\"RGBA\",(500,500),(0,0,0,0))\n",
    "draw = ImageDraw.Draw(img)\n",
    "random_color_scale = random.randint(0,255)\n",
    "draw.ellipse(\n",
    "    (\n",
    "        ((random.randint(0, 100)), (random.randint(0, 100))),\n",
    "        ((random.randint(10, 200)), (random.randint(10, 200)))\n",
    "    ),\n",
    "    fill=(155, 40, random_color_scale, 99)\n",
    ")\n",
    "img"
   ]
  },
  {
   "cell_type": "code",
   "execution_count": 26,
   "metadata": {},
   "outputs": [],
   "source": []
  },
  {
   "cell_type": "code",
   "execution_count": 27,
   "metadata": {},
   "outputs": [],
   "source": []
  },
  {
   "cell_type": "code",
   "execution_count": 28,
   "metadata": {},
   "outputs": [],
   "source": []
  },
  {
   "cell_type": "code",
   "execution_count": 29,
   "metadata": {},
   "outputs": [
    {
     "data": {
      "image/png": "[encoded data removed]",
      "text/plain": [
       "<PIL.Image.Image image mode=RGBA size=500x500 at 0x7FF1D9096460>"
      ]
     },
     "execution_count": 29,
     "metadata": {},
     "output_type": "execute_result"
    }
   ],
   "source": [
    "img"
   ]
  },
  {
   "cell_type": "code",
   "execution_count": null,
   "metadata": {},
   "outputs": [],
   "source": []
  }
 ],
 "metadata": {
  "celltoolbar": "Raw Cell Format",
  "kernelspec": {
   "display_name": "Python 3",
   "language": "python",
   "name": "python3"
  },
  "language_info": {
   "codemirror_mode": {
    "name": "ipython",
    "version": 3
   },
   "file_extension": ".py",
   "mimetype": "text/x-python",
   "name": "python",
   "nbconvert_exporter": "python",
   "pygments_lexer": "ipython3",
   "version": "3.8.5"
  }
 },
 "nbformat": 4,
 "nbformat_minor": 4
}
