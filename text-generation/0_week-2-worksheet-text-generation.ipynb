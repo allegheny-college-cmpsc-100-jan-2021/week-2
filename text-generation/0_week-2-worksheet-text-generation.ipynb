{
 "cells": [
  {
   "cell_type": "markdown",
   "metadata": {},
   "source": [
    "# Worksheet 2.2.0: Text generation\n",
    "\n",
    "<div class=\"alert alert-block alert-info\">\n",
    "    This worksheet implements to-do markers where work needs to be completed. In some cases, this means that you'll need to copy a line or two and make meaningful changes.\n",
    "</div>\n",
    "\n",
    "## I'm nobody, who are you\n",
    "\n",
    "...and did you know that computers can be poets, too? They can and, historically, have been. Take the following work called _House of Dust_ by Alison Knowles and James Tenney (translated from a language called Fortran into Python by the inestimable [Allison Parrish](http://www.decontextualize.com)):"
   ]
  },
  {
   "cell_type": "code",
   "execution_count": 4,
   "metadata": {},
   "outputs": [
    {
     "name": "stdout",
     "output_type": "stream",
     "text": [
      "\n",
      "A house of laser-cut mdf\n",
      "     in japan\n",
      "          using electricity\n",
      "                inhabited by vegetarians\n",
      "\n",
      "A house of blinking leds\n",
      "     in heavy jungle undergrowth\n",
      "          using candles\n",
      "                inhabited by french and german speaking people\n",
      "\n",
      "A house of shiny steel\n",
      "     in a green, mossy terrain\n",
      "          using candles\n",
      "                inhabited by friends and enemies\n",
      "\n",
      "A house of blinking leds\n",
      "     in a metropolis\n",
      "          using all available lighting\n",
      "                inhabited by little boys\n",
      "\n",
      "A house of shiny steel\n",
      "     in a deserted church\n",
      "          using candles\n",
      "                inhabited by people who sleep almost all the time\n",
      "\n",
      "A house of laser-cut mdf\n",
      "     in a green, mossy terrain\n",
      "          using electricity\n",
      "                inhabited by lovers\n",
      "\n",
      "A house of aluminum\n",
      "     in a metropolis\n",
      "          using natural light\n",
      "                inhabited by french and german speaking people\n"
     ]
    }
   ],
   "source": [
    "import random\n",
    "\n",
    "materials = [\n",
    "    'shiny steel',\n",
    "    'aluminum',\n",
    "    'laser-cut mdf',\n",
    "    'blinking leds'\n",
    "]\n",
    "\n",
    "locations = [\n",
    "    'among high mountains',\n",
    "    'among other houses',\n",
    "    'among small hills',\n",
    "    'by a river',\n",
    "    'by an abandoned lake',\n",
    "    'by the sea',\n",
    "    'in a cold, windy climate',\n",
    "    'in a deserted airport',\n",
    "    'in a deserted church',\n",
    "    'in a deserted factory',\n",
    "    'in a green, mossy terrain',\n",
    "    'in a hot climate',\n",
    "    'in a metropolis',\n",
    "    'in a place with both heavy rain and bright sun',\n",
    "    'in an overpopulated area',\n",
    "    'in dense woods',\n",
    "    'in heavy jungle undergrowth',\n",
    "    'in japan',\n",
    "    'in michigan',\n",
    "    'in southern france',\n",
    "    'inside a mountain',\n",
    "    'on an island',\n",
    "    'on the sea',\n",
    "    'underwater'\n",
    "]\n",
    "\n",
    "lights = [\n",
    "    'all available lighting',\n",
    "    'candles',\n",
    "    'electricity',\n",
    "    'natural light'\n",
    "]\n",
    "\n",
    "inhabitants = [\n",
    "    'all races of men represented wearing predominantly red clothing',\n",
    "    'children and old people',\n",
    "    'collectors of all types',\n",
    "    'fishermen and families',\n",
    "    'french and german speaking people',\n",
    "    'friends',\n",
    "    'friends and enemies',\n",
    "    'horses and birds',\n",
    "    'little boys',\n",
    "    'lovers',\n",
    "    'people from many walks of life',\n",
    "    'people speaking many languages wearing little or no clothing',\n",
    "    'people who eat a great deal',\n",
    "    'people who enjoy eating together',\n",
    "    'people who love to read',\n",
    "    'people who sleep almost all the time',\n",
    "    'people who sleep very little',\n",
    "    'various birds and fish',\n",
    "    'vegetarians',\n",
    "    'very tall people'\n",
    "]\n",
    "\n",
    "stanza_count = 7\n",
    "for i in range(stanza_count):\n",
    "    print()\n",
    "    print(\"A house of \" + random.choice(materials))\n",
    "    print(f\"     \" + random.choice(locations))\n",
    "    print(\"          using \" + random.choice(lights))\n",
    "    print(\"                inhabited by \" + random.choice(inhabitants))"
   ]
  },
  {
   "cell_type": "markdown",
   "metadata": {},
   "source": [
    "\"But, of course,\" you say, \"it looks a lot like a madlib, so it _would_ come out readable.\" \n",
    "\n",
    "True, but for its time (and even now) it serves the purpose of helping us understand _how_ computers can assist us in creating interesting and \"renewable\" works which both have form and literal function. The process of writing computational poetry differs little in terms of mental processes from its analogue counterpart: it's all about discovering and exploiting patterns in language. Even (at this point _literally_) 100 years ago, the Dada art movement had a similar hot-take about how to create poems:\n",
    "\n",
    "```\n",
    "Take a newspaper.\n",
    "Take some scissors.\n",
    "Choose from this paper an article of the length you want to make your poem.\n",
    "Cut out the article.\n",
    "Next carefully cut out each of the words that makes up this article and put them all in a bag.\n",
    "Shake gently.\n",
    "Next take out each cutting one after the other.\n",
    "Copy conscientiously in the order in which they left the bag.\n",
    "Them poem will resemble you.\n",
    "And there youu are – an infinitely original author of charming sensibility, even though unappreciated by the vulgar herd.\n",
    "```\n",
    "\n",
    "[\"Dada Manifesto on Feeble Love and Bitter Love\"](https://391.org/manifestos/1920-dada-manifesto-feeble-love-bitter-love-tristan-tzara/#.WnPkJYJOndd), Tristan Tzara (~1920)\n",
    "\n",
    "Okay. If that's true, let's do it.\n",
    "\n",
    "## Writing your own Dadaist poem"
   ]
  },
  {
   "cell_type": "code",
   "execution_count": 1,
   "metadata": {},
   "outputs": [],
   "source": [
    "from textwrap3 import wrap         # to make it pretty, because if it's not pretty,\n",
    "                                   # it's not worth having\n",
    "    \n",
    "# TODO: Follow the example give by the professor to\n",
    "#       generate our own!"
   ]
  },
  {
   "cell_type": "markdown",
   "metadata": {},
   "source": [
    "Oh, that looks _good_. Let's save it. This, of course, is _writing_ a file, which is not dissimilar from reading one:\n",
    "\n",
    "```python\n",
    "poem = open(\"poem.txt\",\"a\") # <-- here \"a\" is for \"append\"\n",
    "poem.write(TEXT TO WRITE)\n",
    "poem.close()                # <-- tell the file we're done\n",
    "```"
   ]
  },
  {
   "cell_type": "code",
   "execution_count": 17,
   "metadata": {},
   "outputs": [],
   "source": [
    "# TODO: Write the results to a file called \"dada.txt\""
   ]
  },
  {
   "cell_type": "markdown",
   "metadata": {},
   "source": [
    "Congratulations -- we/you have a poem. Yer a poet. Does it make sense? Maybe a strange kind, but do poems _have_ to make sense?\n",
    "\n",
    "### Another `random` strategy\n",
    "\n",
    "Another poetic form that leverages randomness is the _cento_ (pronounced \"chen-toe\" by folks who want to look smart, but \"sen-toe\" by most of the rest of us). Typically, the form takes _multiple_ poems and samples full lines from each of them. I've given us four:\n",
    "\n",
    "* Elizabeth Bishop, \"One Art\"\n",
    "  * `poems/bishop_one_art.txt`\n",
    "* Robert Haden, \"Those Winter Sundays\"\n",
    "  * `poems/hayden_those_winter.txt`\n",
    "* Marianne Moore, \"Poetry\"\n",
    "  * `poems/moore_poetry.txt`\n",
    "* William Carlos Williams, \"Landscape With the Fall of Icarus\"\n",
    "  * `poems/williams_landscape_icarus.txt`\n",
    "\n",
    "We'll create one of these _cento_ businesses from them."
   ]
  },
  {
   "cell_type": "code",
   "execution_count": 51,
   "metadata": {},
   "outputs": [],
   "source": [
    "def read_file(filename):\n",
    "    file = open(f\"poems/{filename}\",\"r\")\n",
    "    return file.read()\n",
    "    \n",
    "files = [\n",
    "    \"bishop_one_art.txt\",\n",
    "    \"hayden_those_winter.txt\",\n",
    "    \"moore_poetry.txt\",\n",
    "    \"williams_landscape_icarus.txt\"\n",
    "]\n",
    "\n",
    "# TODO: Follow along with the professor's example to create\n",
    "#       and write a file called \"cento.txt\""
   ]
  },
  {
   "cell_type": "markdown",
   "metadata": {},
   "source": [
    "## Some vocabulary\n",
    "\n",
    "When we generate text, we usually refer to the source (or the body of text from which we're generating) as a _corpus_, and any kind of generation or sampling we do as coming from a _model_. In the above examples our corpi (corpuses? porpoises?) are relativey simple and the models the same (in fact in the above, `corpus == model`, essentally).\n",
    "\n",
    "However, that's not always the case.\n",
    "\n",
    "### A philosophical detour into statistics\n",
    "\n",
    "The problem of \"generating text _like_ something\" is not an altogether unworthy task. To do this, it requires a bit of warping how we think about a given author or style's work. Instead of the product of artistic genius, what if we were to think about a writer's style as nothing more than a set of likelihoods (i.e. that it's more than likely that if we are _in fact_ reading Shakespeare -- like, why -- and a word begins with \"f\" _and_ is 3 letters, it's probably \"fie\" -- as in \"o, fie on't\").\n",
    "\n",
    "Curiously enough, we have a kind of statistical body right here, right now: the corpus of our poem texts. Can we write _new_ lines from it?\n",
    "\n",
    "Yes, yes we can -- using something called a \"Markov chain,\" which is just a fancy statistical word for a kind of frequency analysis. We're not going to care about the _why_ or _what_. Let's focus on the _how_. That's more fun anyway.\n",
    "\n",
    "Here, our _model_ and our texts will be a bit different than our examples above.\n",
    "\n",
    "We're going to use a library called [markovify](https://github.com/jsvine/markovify) in order to save ourselves the hassle of making our own chain generator."
   ]
  },
  {
   "cell_type": "code",
   "execution_count": 88,
   "metadata": {},
   "outputs": [
    {
     "name": "stdout",
     "output_type": "stream",
     "text": [
      "sweating in the meantime, if it valid\n",
      "According to him,\n",
      "that there was spring\n",
      "to become so many things are\n",
      "insolence and put his field\n",
      "useful; when Icarus fell\n",
      "next-to-last, of something to master\n",
      "with a tireless\n",
      "so many things that melted\n",
      "I miss them, but because\n"
     ]
    }
   ],
   "source": [
    "# A handy Markov chain generator, so we don't\n",
    "# have to do the work.\n",
    "import markovify\n",
    "\n",
    "# Create a model based on the text\n",
    "model = markovify.NewlineText(text,state_size=1)\n",
    "\n",
    "# Generate 10 sentences\n",
    "for _ in range(10):\n",
    "    print(model.make_short_sentence(60))"
   ]
  },
  {
   "cell_type": "markdown",
   "metadata": {},
   "source": [
    "None of these lines actually exist in the source texts, though the sources aren't too hard to identify. That's because our sample size is actually a bit _small_. Let's increase it with, say... [145 poems](f1_week-2-worksheet-sonnets.md)."
   ]
  }
 ],
 "metadata": {
  "kernelspec": {
   "display_name": "Python 3",
   "language": "python",
   "name": "python3"
  },
  "language_info": {
   "codemirror_mode": {
    "name": "ipython",
    "version": 3
   },
   "file_extension": ".py",
   "mimetype": "text/x-python",
   "name": "python",
   "nbconvert_exporter": "python",
   "pygments_lexer": "ipython3",
   "version": "3.8.5"
  }
 },
 "nbformat": 4,
 "nbformat_minor": 4
}
